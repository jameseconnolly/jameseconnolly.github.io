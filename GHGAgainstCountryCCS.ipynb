{
  "nbformat": 4,
  "nbformat_minor": 0,
  "metadata": {
    "colab": {
      "provenance": [],
      "authorship_tag": "ABX9TyOL8a1h4vFr+qqGdutiYO7V",
      "include_colab_link": true
    },
    "kernelspec": {
      "name": "python3",
      "display_name": "Python 3"
    },
    "language_info": {
      "name": "python"
    }
  },
  "cells": [
    {
      "cell_type": "markdown",
      "metadata": {
        "id": "view-in-github",
        "colab_type": "text"
      },
      "source": [
        "<a href=\"https://colab.research.google.com/github/jameseconnolly/jameseconnolly.github.io/blob/main/GHGAgainstCountryCCS.ipynb\" target=\"_parent\"><img src=\"https://colab.research.google.com/assets/colab-badge.svg\" alt=\"Open In Colab\"/></a>"
      ]
    },
    {
      "cell_type": "code",
      "execution_count": 3,
      "metadata": {
        "id": "O9aV4oPfSejd"
      },
      "outputs": [],
      "source": [
        "# // Import pandas for exporting/importing and math for log of GHG\n",
        "import pandas as pd\n",
        "import math"
      ]
    },
    {
      "cell_type": "code",
      "source": [
        "df = pd.read_csv('Net_Zero_Countries.csv')"
      ],
      "metadata": {
        "id": "Ci31Q-TeUjmi"
      },
      "execution_count": 4,
      "outputs": []
    },
    {
      "cell_type": "code",
      "source": [
        "# // Retain relevant columns\n",
        "df1 = df.loc[:, ['Country Name', 'Country Code','population','GHG','Net-zero Target']]"
      ],
      "metadata": {
        "id": "IMenJtdRUmgs"
      },
      "execution_count": 7,
      "outputs": []
    },
    {
      "cell_type": "code",
      "source": [
        "df2 = pd.read_csv('CCS_Index.csv')"
      ],
      "metadata": {
        "id": "iO0jJFTVUnDb"
      },
      "execution_count": 8,
      "outputs": []
    },
    {
      "cell_type": "code",
      "source": [
        "# // Combine my net-zero data and CCS data using concat\n",
        "df_concat = pd.concat([df1, df2], axis=1)"
      ],
      "metadata": {
        "id": "d0g-My_YVM1-"
      },
      "execution_count": 9,
      "outputs": []
    },
    {
      "cell_type": "code",
      "source": [
        "df_concat1 = df_concat.loc[:, ['Country Name', 'Country Code','population','GHG','Net-zero Target', 'Carbon Capture Requirement']]"
      ],
      "metadata": {
        "id": "t0VDGGHUWIKT"
      },
      "execution_count": 10,
      "outputs": []
    },
    {
      "cell_type": "code",
      "source": [
        "# // Dropping countries which had no CCS requirement data\n",
        "df_concat2=df_concat1.dropna(subset=['Carbon Capture Requirement'])"
      ],
      "metadata": {
        "id": "Dv4cTaYqWJM2"
      },
      "execution_count": 11,
      "outputs": []
    },
    {
      "cell_type": "code",
      "source": [
        "# // Using math to log GHG. Original GHG values greatly varied in value so logarithmic y-axis was necessary\n",
        "df_concat2['log_GHG'] = df_concat2['GHG'].apply(lambda x: math.log(x))"
      ],
      "metadata": {
        "colab": {
          "base_uri": "https://localhost:8080/"
        },
        "id": "RTlCZ6NuY5Qv",
        "outputId": "56343c94-5dea-482f-e3a0-4c05e650a294"
      },
      "execution_count": 12,
      "outputs": [
        {
          "output_type": "stream",
          "name": "stderr",
          "text": [
            "<ipython-input-12-ae114b39de75>:2: SettingWithCopyWarning: \n",
            "A value is trying to be set on a copy of a slice from a DataFrame.\n",
            "Try using .loc[row_indexer,col_indexer] = value instead\n",
            "\n",
            "See the caveats in the documentation: https://pandas.pydata.org/pandas-docs/stable/user_guide/indexing.html#returning-a-view-versus-a-copy\n",
            "  df_concat2['log_GHG'] = df_concat2['GHG'].apply(lambda x: math.log(x))\n"
          ]
        }
      ]
    },
    {
      "cell_type": "code",
      "source": [
        "df_concat2"
      ],
      "metadata": {
        "colab": {
          "base_uri": "https://localhost:8080/",
          "height": 419
        },
        "id": "l869r3uBZD4S",
        "outputId": "d16ea05e-dfbd-4ba8-da9a-ebe181bd6bed"
      },
      "execution_count": 13,
      "outputs": [
        {
          "output_type": "execute_result",
          "data": {
            "text/plain": [
              "    Country Name Country Code   population          GHG  Net-zero Target  \\\n",
              "1         Angola          AGO   34503774.0  128290000.0           2030.0   \n",
              "2      Argentina          ARG   45276780.0  398910000.0           2050.0   \n",
              "5        Austria          AUT    8922082.0   69800000.0           2050.0   \n",
              "6        Belgium          BEL   11611420.0  108220000.0           2050.0   \n",
              "9     Bangladesh          BGD  169356251.0  237700000.0           2050.0   \n",
              "..           ...          ...          ...          ...              ...   \n",
              "188       Turkey          TUR   84775404.0  459860000.0           2053.0   \n",
              "190      Ukraine          UKR   43531422.0  221290000.0           2060.0   \n",
              "191   Uzbekistan          UZB   34081449.0  185390000.0           2030.0   \n",
              "192    Venezuela          VEN   28199867.0  299600000.0           2030.0   \n",
              "193      Vietnam          VNM   97468029.0  438110000.0           2050.0   \n",
              "\n",
              "     Carbon Capture Requirement    log_GHG  \n",
              "1                           3.0  18.669804  \n",
              "2                          14.0  19.804246  \n",
              "5                          24.0  18.061145  \n",
              "6                          28.0  18.499677  \n",
              "9                          33.0  19.286520  \n",
              "..                          ...        ...  \n",
              "188                        43.0  19.946433  \n",
              "190                        49.0  19.214985  \n",
              "191                        38.0  19.037972  \n",
              "192                        14.0  19.517959  \n",
              "193                        48.0  19.897981  \n",
              "\n",
              "[85 rows x 7 columns]"
            ],
            "text/html": [
              "\n",
              "  <div id=\"df-fa754c1b-7bbd-4354-9aa3-06bddf077106\">\n",
              "    <div class=\"colab-df-container\">\n",
              "      <div>\n",
              "<style scoped>\n",
              "    .dataframe tbody tr th:only-of-type {\n",
              "        vertical-align: middle;\n",
              "    }\n",
              "\n",
              "    .dataframe tbody tr th {\n",
              "        vertical-align: top;\n",
              "    }\n",
              "\n",
              "    .dataframe thead th {\n",
              "        text-align: right;\n",
              "    }\n",
              "</style>\n",
              "<table border=\"1\" class=\"dataframe\">\n",
              "  <thead>\n",
              "    <tr style=\"text-align: right;\">\n",
              "      <th></th>\n",
              "      <th>Country Name</th>\n",
              "      <th>Country Code</th>\n",
              "      <th>population</th>\n",
              "      <th>GHG</th>\n",
              "      <th>Net-zero Target</th>\n",
              "      <th>Carbon Capture Requirement</th>\n",
              "      <th>log_GHG</th>\n",
              "    </tr>\n",
              "  </thead>\n",
              "  <tbody>\n",
              "    <tr>\n",
              "      <th>1</th>\n",
              "      <td>Angola</td>\n",
              "      <td>AGO</td>\n",
              "      <td>34503774.0</td>\n",
              "      <td>128290000.0</td>\n",
              "      <td>2030.0</td>\n",
              "      <td>3.0</td>\n",
              "      <td>18.669804</td>\n",
              "    </tr>\n",
              "    <tr>\n",
              "      <th>2</th>\n",
              "      <td>Argentina</td>\n",
              "      <td>ARG</td>\n",
              "      <td>45276780.0</td>\n",
              "      <td>398910000.0</td>\n",
              "      <td>2050.0</td>\n",
              "      <td>14.0</td>\n",
              "      <td>19.804246</td>\n",
              "    </tr>\n",
              "    <tr>\n",
              "      <th>5</th>\n",
              "      <td>Austria</td>\n",
              "      <td>AUT</td>\n",
              "      <td>8922082.0</td>\n",
              "      <td>69800000.0</td>\n",
              "      <td>2050.0</td>\n",
              "      <td>24.0</td>\n",
              "      <td>18.061145</td>\n",
              "    </tr>\n",
              "    <tr>\n",
              "      <th>6</th>\n",
              "      <td>Belgium</td>\n",
              "      <td>BEL</td>\n",
              "      <td>11611420.0</td>\n",
              "      <td>108220000.0</td>\n",
              "      <td>2050.0</td>\n",
              "      <td>28.0</td>\n",
              "      <td>18.499677</td>\n",
              "    </tr>\n",
              "    <tr>\n",
              "      <th>9</th>\n",
              "      <td>Bangladesh</td>\n",
              "      <td>BGD</td>\n",
              "      <td>169356251.0</td>\n",
              "      <td>237700000.0</td>\n",
              "      <td>2050.0</td>\n",
              "      <td>33.0</td>\n",
              "      <td>19.286520</td>\n",
              "    </tr>\n",
              "    <tr>\n",
              "      <th>...</th>\n",
              "      <td>...</td>\n",
              "      <td>...</td>\n",
              "      <td>...</td>\n",
              "      <td>...</td>\n",
              "      <td>...</td>\n",
              "      <td>...</td>\n",
              "      <td>...</td>\n",
              "    </tr>\n",
              "    <tr>\n",
              "      <th>188</th>\n",
              "      <td>Turkey</td>\n",
              "      <td>TUR</td>\n",
              "      <td>84775404.0</td>\n",
              "      <td>459860000.0</td>\n",
              "      <td>2053.0</td>\n",
              "      <td>43.0</td>\n",
              "      <td>19.946433</td>\n",
              "    </tr>\n",
              "    <tr>\n",
              "      <th>190</th>\n",
              "      <td>Ukraine</td>\n",
              "      <td>UKR</td>\n",
              "      <td>43531422.0</td>\n",
              "      <td>221290000.0</td>\n",
              "      <td>2060.0</td>\n",
              "      <td>49.0</td>\n",
              "      <td>19.214985</td>\n",
              "    </tr>\n",
              "    <tr>\n",
              "      <th>191</th>\n",
              "      <td>Uzbekistan</td>\n",
              "      <td>UZB</td>\n",
              "      <td>34081449.0</td>\n",
              "      <td>185390000.0</td>\n",
              "      <td>2030.0</td>\n",
              "      <td>38.0</td>\n",
              "      <td>19.037972</td>\n",
              "    </tr>\n",
              "    <tr>\n",
              "      <th>192</th>\n",
              "      <td>Venezuela</td>\n",
              "      <td>VEN</td>\n",
              "      <td>28199867.0</td>\n",
              "      <td>299600000.0</td>\n",
              "      <td>2030.0</td>\n",
              "      <td>14.0</td>\n",
              "      <td>19.517959</td>\n",
              "    </tr>\n",
              "    <tr>\n",
              "      <th>193</th>\n",
              "      <td>Vietnam</td>\n",
              "      <td>VNM</td>\n",
              "      <td>97468029.0</td>\n",
              "      <td>438110000.0</td>\n",
              "      <td>2050.0</td>\n",
              "      <td>48.0</td>\n",
              "      <td>19.897981</td>\n",
              "    </tr>\n",
              "  </tbody>\n",
              "</table>\n",
              "<p>85 rows × 7 columns</p>\n",
              "</div>\n",
              "      <button class=\"colab-df-convert\" onclick=\"convertToInteractive('df-fa754c1b-7bbd-4354-9aa3-06bddf077106')\"\n",
              "              title=\"Convert this dataframe to an interactive table.\"\n",
              "              style=\"display:none;\">\n",
              "        \n",
              "  <svg xmlns=\"http://www.w3.org/2000/svg\" height=\"24px\"viewBox=\"0 0 24 24\"\n",
              "       width=\"24px\">\n",
              "    <path d=\"M0 0h24v24H0V0z\" fill=\"none\"/>\n",
              "    <path d=\"M18.56 5.44l.94 2.06.94-2.06 2.06-.94-2.06-.94-.94-2.06-.94 2.06-2.06.94zm-11 1L8.5 8.5l.94-2.06 2.06-.94-2.06-.94L8.5 2.5l-.94 2.06-2.06.94zm10 10l.94 2.06.94-2.06 2.06-.94-2.06-.94-.94-2.06-.94 2.06-2.06.94z\"/><path d=\"M17.41 7.96l-1.37-1.37c-.4-.4-.92-.59-1.43-.59-.52 0-1.04.2-1.43.59L10.3 9.45l-7.72 7.72c-.78.78-.78 2.05 0 2.83L4 21.41c.39.39.9.59 1.41.59.51 0 1.02-.2 1.41-.59l7.78-7.78 2.81-2.81c.8-.78.8-2.07 0-2.86zM5.41 20L4 18.59l7.72-7.72 1.47 1.35L5.41 20z\"/>\n",
              "  </svg>\n",
              "      </button>\n",
              "      \n",
              "  <style>\n",
              "    .colab-df-container {\n",
              "      display:flex;\n",
              "      flex-wrap:wrap;\n",
              "      gap: 12px;\n",
              "    }\n",
              "\n",
              "    .colab-df-convert {\n",
              "      background-color: #E8F0FE;\n",
              "      border: none;\n",
              "      border-radius: 50%;\n",
              "      cursor: pointer;\n",
              "      display: none;\n",
              "      fill: #1967D2;\n",
              "      height: 32px;\n",
              "      padding: 0 0 0 0;\n",
              "      width: 32px;\n",
              "    }\n",
              "\n",
              "    .colab-df-convert:hover {\n",
              "      background-color: #E2EBFA;\n",
              "      box-shadow: 0px 1px 2px rgba(60, 64, 67, 0.3), 0px 1px 3px 1px rgba(60, 64, 67, 0.15);\n",
              "      fill: #174EA6;\n",
              "    }\n",
              "\n",
              "    [theme=dark] .colab-df-convert {\n",
              "      background-color: #3B4455;\n",
              "      fill: #D2E3FC;\n",
              "    }\n",
              "\n",
              "    [theme=dark] .colab-df-convert:hover {\n",
              "      background-color: #434B5C;\n",
              "      box-shadow: 0px 1px 3px 1px rgba(0, 0, 0, 0.15);\n",
              "      filter: drop-shadow(0px 1px 2px rgba(0, 0, 0, 0.3));\n",
              "      fill: #FFFFFF;\n",
              "    }\n",
              "  </style>\n",
              "\n",
              "      <script>\n",
              "        const buttonEl =\n",
              "          document.querySelector('#df-fa754c1b-7bbd-4354-9aa3-06bddf077106 button.colab-df-convert');\n",
              "        buttonEl.style.display =\n",
              "          google.colab.kernel.accessAllowed ? 'block' : 'none';\n",
              "\n",
              "        async function convertToInteractive(key) {\n",
              "          const element = document.querySelector('#df-fa754c1b-7bbd-4354-9aa3-06bddf077106');\n",
              "          const dataTable =\n",
              "            await google.colab.kernel.invokeFunction('convertToInteractive',\n",
              "                                                     [key], {});\n",
              "          if (!dataTable) return;\n",
              "\n",
              "          const docLinkHtml = 'Like what you see? Visit the ' +\n",
              "            '<a target=\"_blank\" href=https://colab.research.google.com/notebooks/data_table.ipynb>data table notebook</a>'\n",
              "            + ' to learn more about interactive tables.';\n",
              "          element.innerHTML = '';\n",
              "          dataTable['output_type'] = 'display_data';\n",
              "          await google.colab.output.renderOutput(dataTable, element);\n",
              "          const docLink = document.createElement('div');\n",
              "          docLink.innerHTML = docLinkHtml;\n",
              "          element.appendChild(docLink);\n",
              "        }\n",
              "      </script>\n",
              "    </div>\n",
              "  </div>\n",
              "  "
            ]
          },
          "metadata": {},
          "execution_count": 13
        }
      ]
    },
    {
      "cell_type": "code",
      "source": [
        "df_concat2.to_csv('Carbon_Capture_Requirement.csv', index=False)"
      ],
      "metadata": {
        "id": "omxrE5bDXGyG"
      },
      "execution_count": 19,
      "outputs": []
    },
    {
      "cell_type": "code",
      "source": [
        "# //  Easy way to check all net-zero targets, so I know what to filter my data by using picked_store in vega-lite visualisation\n",
        "df_concat2['Net-zero Target'].unique().tolist()"
      ],
      "metadata": {
        "colab": {
          "base_uri": "https://localhost:8080/"
        },
        "id": "KJdFGxhVaCnD",
        "outputId": "94ab8b3d-48c8-4bf0-c93f-665e72b0203f"
      },
      "execution_count": 20,
      "outputs": [
        {
          "output_type": "execute_result",
          "data": {
            "text/plain": [
              "[2030.0,\n",
              " 2050.0,\n",
              " 2045.0,\n",
              " 2035.0,\n",
              " 2000.0,\n",
              " 2040.0,\n",
              " nan,\n",
              " 2060.0,\n",
              " 2070.0,\n",
              " 2065.0,\n",
              " 2053.0]"
            ]
          },
          "metadata": {},
          "execution_count": 20
        }
      ]
    },
    {
      "cell_type": "code",
      "source": [
        "# //  Checking range of population to adjust data-points to population size\n",
        "min_value = df_concat2['population'].min()\n",
        "print(min_value)"
      ],
      "metadata": {
        "colab": {
          "base_uri": "https://localhost:8080/"
        },
        "id": "OMOo0oGq9V5x",
        "outputId": "b2bcb72f-faeb-4960-eb2e-44356a27212d"
      },
      "execution_count": 21,
      "outputs": [
        {
          "output_type": "stream",
          "name": "stdout",
          "text": [
            "370335.0\n"
          ]
        }
      ]
    },
    {
      "cell_type": "code",
      "source": [
        "max_value = df_concat2['population'].max()\n",
        "print(max_value)"
      ],
      "metadata": {
        "colab": {
          "base_uri": "https://localhost:8080/"
        },
        "id": "KCLDlikS9s39",
        "outputId": "30e8b3e9-dd08-40c3-fee6-588643cdb7cc"
      },
      "execution_count": 22,
      "outputs": [
        {
          "output_type": "stream",
          "name": "stdout",
          "text": [
            "1407563842.0\n"
          ]
        }
      ]
    },
    {
      "cell_type": "code",
      "source": [
        "df_concat2=pd.read_csv('Carbon_Capture_Requirement.csv')"
      ],
      "metadata": {
        "id": "hIJGu7dD2GZp"
      },
      "execution_count": 32,
      "outputs": []
    },
    {
      "cell_type": "code",
      "source": [
        "df_concat2"
      ],
      "metadata": {
        "colab": {
          "base_uri": "https://localhost:8080/",
          "height": 419
        },
        "id": "nr2RQNlL2YR8",
        "outputId": "db9d35f4-28ed-4154-ac8d-95decb1e2f5f"
      },
      "execution_count": 33,
      "outputs": [
        {
          "output_type": "execute_result",
          "data": {
            "text/plain": [
              "   Country Name Country Code   population          GHG  Net-zero Target  \\\n",
              "0        Angola          AGO   34503774.0  128290000.0           2030.0   \n",
              "1     Argentina          ARG   45276780.0  398910000.0           2050.0   \n",
              "2       Austria          AUT    8922082.0   69800000.0           2050.0   \n",
              "3       Belgium          BEL   11611420.0  108220000.0           2050.0   \n",
              "4    Bangladesh          BGD  169356251.0  237700000.0           2050.0   \n",
              "..          ...          ...          ...          ...              ...   \n",
              "80       Turkey          TUR   84775404.0  459860000.0           2053.0   \n",
              "81      Ukraine          UKR   43531422.0  221290000.0           2060.0   \n",
              "82   Uzbekistan          UZB   34081449.0  185390000.0           2030.0   \n",
              "83    Venezuela          VEN   28199867.0  299600000.0           2030.0   \n",
              "84      Vietnam          VNM   97468029.0  438110000.0           2050.0   \n",
              "\n",
              "    Carbon Capture Requirement    log_GHG  \n",
              "0                          3.0  18.669804  \n",
              "1                         14.0  19.804246  \n",
              "2                         24.0  18.061145  \n",
              "3                         28.0  18.499677  \n",
              "4                         33.0  19.286520  \n",
              "..                         ...        ...  \n",
              "80                        43.0  19.946433  \n",
              "81                        49.0  19.214985  \n",
              "82                        38.0  19.037972  \n",
              "83                        14.0  19.517959  \n",
              "84                        48.0  19.897981  \n",
              "\n",
              "[85 rows x 7 columns]"
            ],
            "text/html": [
              "\n",
              "  <div id=\"df-ade29118-143e-400a-a59a-904f66ff119e\">\n",
              "    <div class=\"colab-df-container\">\n",
              "      <div>\n",
              "<style scoped>\n",
              "    .dataframe tbody tr th:only-of-type {\n",
              "        vertical-align: middle;\n",
              "    }\n",
              "\n",
              "    .dataframe tbody tr th {\n",
              "        vertical-align: top;\n",
              "    }\n",
              "\n",
              "    .dataframe thead th {\n",
              "        text-align: right;\n",
              "    }\n",
              "</style>\n",
              "<table border=\"1\" class=\"dataframe\">\n",
              "  <thead>\n",
              "    <tr style=\"text-align: right;\">\n",
              "      <th></th>\n",
              "      <th>Country Name</th>\n",
              "      <th>Country Code</th>\n",
              "      <th>population</th>\n",
              "      <th>GHG</th>\n",
              "      <th>Net-zero Target</th>\n",
              "      <th>Carbon Capture Requirement</th>\n",
              "      <th>log_GHG</th>\n",
              "    </tr>\n",
              "  </thead>\n",
              "  <tbody>\n",
              "    <tr>\n",
              "      <th>0</th>\n",
              "      <td>Angola</td>\n",
              "      <td>AGO</td>\n",
              "      <td>34503774.0</td>\n",
              "      <td>128290000.0</td>\n",
              "      <td>2030.0</td>\n",
              "      <td>3.0</td>\n",
              "      <td>18.669804</td>\n",
              "    </tr>\n",
              "    <tr>\n",
              "      <th>1</th>\n",
              "      <td>Argentina</td>\n",
              "      <td>ARG</td>\n",
              "      <td>45276780.0</td>\n",
              "      <td>398910000.0</td>\n",
              "      <td>2050.0</td>\n",
              "      <td>14.0</td>\n",
              "      <td>19.804246</td>\n",
              "    </tr>\n",
              "    <tr>\n",
              "      <th>2</th>\n",
              "      <td>Austria</td>\n",
              "      <td>AUT</td>\n",
              "      <td>8922082.0</td>\n",
              "      <td>69800000.0</td>\n",
              "      <td>2050.0</td>\n",
              "      <td>24.0</td>\n",
              "      <td>18.061145</td>\n",
              "    </tr>\n",
              "    <tr>\n",
              "      <th>3</th>\n",
              "      <td>Belgium</td>\n",
              "      <td>BEL</td>\n",
              "      <td>11611420.0</td>\n",
              "      <td>108220000.0</td>\n",
              "      <td>2050.0</td>\n",
              "      <td>28.0</td>\n",
              "      <td>18.499677</td>\n",
              "    </tr>\n",
              "    <tr>\n",
              "      <th>4</th>\n",
              "      <td>Bangladesh</td>\n",
              "      <td>BGD</td>\n",
              "      <td>169356251.0</td>\n",
              "      <td>237700000.0</td>\n",
              "      <td>2050.0</td>\n",
              "      <td>33.0</td>\n",
              "      <td>19.286520</td>\n",
              "    </tr>\n",
              "    <tr>\n",
              "      <th>...</th>\n",
              "      <td>...</td>\n",
              "      <td>...</td>\n",
              "      <td>...</td>\n",
              "      <td>...</td>\n",
              "      <td>...</td>\n",
              "      <td>...</td>\n",
              "      <td>...</td>\n",
              "    </tr>\n",
              "    <tr>\n",
              "      <th>80</th>\n",
              "      <td>Turkey</td>\n",
              "      <td>TUR</td>\n",
              "      <td>84775404.0</td>\n",
              "      <td>459860000.0</td>\n",
              "      <td>2053.0</td>\n",
              "      <td>43.0</td>\n",
              "      <td>19.946433</td>\n",
              "    </tr>\n",
              "    <tr>\n",
              "      <th>81</th>\n",
              "      <td>Ukraine</td>\n",
              "      <td>UKR</td>\n",
              "      <td>43531422.0</td>\n",
              "      <td>221290000.0</td>\n",
              "      <td>2060.0</td>\n",
              "      <td>49.0</td>\n",
              "      <td>19.214985</td>\n",
              "    </tr>\n",
              "    <tr>\n",
              "      <th>82</th>\n",
              "      <td>Uzbekistan</td>\n",
              "      <td>UZB</td>\n",
              "      <td>34081449.0</td>\n",
              "      <td>185390000.0</td>\n",
              "      <td>2030.0</td>\n",
              "      <td>38.0</td>\n",
              "      <td>19.037972</td>\n",
              "    </tr>\n",
              "    <tr>\n",
              "      <th>83</th>\n",
              "      <td>Venezuela</td>\n",
              "      <td>VEN</td>\n",
              "      <td>28199867.0</td>\n",
              "      <td>299600000.0</td>\n",
              "      <td>2030.0</td>\n",
              "      <td>14.0</td>\n",
              "      <td>19.517959</td>\n",
              "    </tr>\n",
              "    <tr>\n",
              "      <th>84</th>\n",
              "      <td>Vietnam</td>\n",
              "      <td>VNM</td>\n",
              "      <td>97468029.0</td>\n",
              "      <td>438110000.0</td>\n",
              "      <td>2050.0</td>\n",
              "      <td>48.0</td>\n",
              "      <td>19.897981</td>\n",
              "    </tr>\n",
              "  </tbody>\n",
              "</table>\n",
              "<p>85 rows × 7 columns</p>\n",
              "</div>\n",
              "      <button class=\"colab-df-convert\" onclick=\"convertToInteractive('df-ade29118-143e-400a-a59a-904f66ff119e')\"\n",
              "              title=\"Convert this dataframe to an interactive table.\"\n",
              "              style=\"display:none;\">\n",
              "        \n",
              "  <svg xmlns=\"http://www.w3.org/2000/svg\" height=\"24px\"viewBox=\"0 0 24 24\"\n",
              "       width=\"24px\">\n",
              "    <path d=\"M0 0h24v24H0V0z\" fill=\"none\"/>\n",
              "    <path d=\"M18.56 5.44l.94 2.06.94-2.06 2.06-.94-2.06-.94-.94-2.06-.94 2.06-2.06.94zm-11 1L8.5 8.5l.94-2.06 2.06-.94-2.06-.94L8.5 2.5l-.94 2.06-2.06.94zm10 10l.94 2.06.94-2.06 2.06-.94-2.06-.94-.94-2.06-.94 2.06-2.06.94z\"/><path d=\"M17.41 7.96l-1.37-1.37c-.4-.4-.92-.59-1.43-.59-.52 0-1.04.2-1.43.59L10.3 9.45l-7.72 7.72c-.78.78-.78 2.05 0 2.83L4 21.41c.39.39.9.59 1.41.59.51 0 1.02-.2 1.41-.59l7.78-7.78 2.81-2.81c.8-.78.8-2.07 0-2.86zM5.41 20L4 18.59l7.72-7.72 1.47 1.35L5.41 20z\"/>\n",
              "  </svg>\n",
              "      </button>\n",
              "      \n",
              "  <style>\n",
              "    .colab-df-container {\n",
              "      display:flex;\n",
              "      flex-wrap:wrap;\n",
              "      gap: 12px;\n",
              "    }\n",
              "\n",
              "    .colab-df-convert {\n",
              "      background-color: #E8F0FE;\n",
              "      border: none;\n",
              "      border-radius: 50%;\n",
              "      cursor: pointer;\n",
              "      display: none;\n",
              "      fill: #1967D2;\n",
              "      height: 32px;\n",
              "      padding: 0 0 0 0;\n",
              "      width: 32px;\n",
              "    }\n",
              "\n",
              "    .colab-df-convert:hover {\n",
              "      background-color: #E2EBFA;\n",
              "      box-shadow: 0px 1px 2px rgba(60, 64, 67, 0.3), 0px 1px 3px 1px rgba(60, 64, 67, 0.15);\n",
              "      fill: #174EA6;\n",
              "    }\n",
              "\n",
              "    [theme=dark] .colab-df-convert {\n",
              "      background-color: #3B4455;\n",
              "      fill: #D2E3FC;\n",
              "    }\n",
              "\n",
              "    [theme=dark] .colab-df-convert:hover {\n",
              "      background-color: #434B5C;\n",
              "      box-shadow: 0px 1px 3px 1px rgba(0, 0, 0, 0.15);\n",
              "      filter: drop-shadow(0px 1px 2px rgba(0, 0, 0, 0.3));\n",
              "      fill: #FFFFFF;\n",
              "    }\n",
              "  </style>\n",
              "\n",
              "      <script>\n",
              "        const buttonEl =\n",
              "          document.querySelector('#df-ade29118-143e-400a-a59a-904f66ff119e button.colab-df-convert');\n",
              "        buttonEl.style.display =\n",
              "          google.colab.kernel.accessAllowed ? 'block' : 'none';\n",
              "\n",
              "        async function convertToInteractive(key) {\n",
              "          const element = document.querySelector('#df-ade29118-143e-400a-a59a-904f66ff119e');\n",
              "          const dataTable =\n",
              "            await google.colab.kernel.invokeFunction('convertToInteractive',\n",
              "                                                     [key], {});\n",
              "          if (!dataTable) return;\n",
              "\n",
              "          const docLinkHtml = 'Like what you see? Visit the ' +\n",
              "            '<a target=\"_blank\" href=https://colab.research.google.com/notebooks/data_table.ipynb>data table notebook</a>'\n",
              "            + ' to learn more about interactive tables.';\n",
              "          element.innerHTML = '';\n",
              "          dataTable['output_type'] = 'display_data';\n",
              "          await google.colab.output.renderOutput(dataTable, element);\n",
              "          const docLink = document.createElement('div');\n",
              "          docLink.innerHTML = docLinkHtml;\n",
              "          element.appendChild(docLink);\n",
              "        }\n",
              "      </script>\n",
              "    </div>\n",
              "  </div>\n",
              "  "
            ]
          },
          "metadata": {},
          "execution_count": 33
        }
      ]
    },
    {
      "cell_type": "code",
      "source": [
        "# //  Importing matplotlib for regression line\n",
        "import matplotlib.pyplot as plt\n",
        "plt.style.use('classic')\n",
        "%matplotlib inline\n",
        "import numpy as np\n",
        "import pandas as pd"
      ],
      "metadata": {
        "id": "nUQwKOcc2ZCG"
      },
      "execution_count": 42,
      "outputs": []
    },
    {
      "cell_type": "code",
      "source": [
        "# //  Import seaborn which acts as library that uses Matplotlib underneath to plot graphs.\n",
        "import seaborn as sns\n",
        "sns.set()\n",
        "sns.regplot(x='Carbon Capture Requirement',y='log_GHG',data=df_concat2)"
      ],
      "metadata": {
        "colab": {
          "base_uri": "https://localhost:8080/",
          "height": 314
        },
        "id": "ucYWJZhf2ayo",
        "outputId": "5243795b-4c2a-4a36-e788-cc63f32a8ce3"
      },
      "execution_count": 43,
      "outputs": [
        {
          "output_type": "execute_result",
          "data": {
            "text/plain": [
              "<matplotlib.axes._subplots.AxesSubplot at 0x7feb6bc78700>"
            ]
          },
          "metadata": {},
          "execution_count": 43
        },
        {
          "output_type": "display_data",
          "data": {
            "text/plain": [
              "<Figure size 432x288 with 1 Axes>"
            ],
            "image/png": "[encoded data removed]"
          },
          "metadata": {}
        }
      ]
    },
    {
      "cell_type": "code",
      "source": [
        "from scipy.stats import linregress"
      ],
      "metadata": {
        "id": "kM30jFJI2dEs"
      },
      "execution_count": 44,
      "outputs": []
    },
    {
      "cell_type": "code",
      "source": [
        "slope, intercept, rvalue, pvalue, stderr = linregress(x=df_concat2['Carbon Capture Requirement'], y=df_concat2['log_GHG'])"
      ],
      "metadata": {
        "id": "qdNaTk8b3NRM"
      },
      "execution_count": 45,
      "outputs": []
    },
    {
      "cell_type": "code",
      "source": [
        "# //  Calculated line of best fit, vega-lite has calculated r squared \n",
        "print('y = ',np.round(slope,2),' * x + ',np.round(intercept,2))"
      ],
      "metadata": {
        "colab": {
          "base_uri": "https://localhost:8080/"
        },
        "id": "baxgaCeP3PLC",
        "outputId": "0cf944d9-a63b-4de2-8f24-44b24ff739f2"
      },
      "execution_count": 46,
      "outputs": [
        {
          "output_type": "stream",
          "name": "stdout",
          "text": [
            "y =  0.06  * x +  17.22\n"
          ]
        }
      ]
    }
  ]
}