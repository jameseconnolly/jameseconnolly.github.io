{
  "nbformat": 4,
  "nbformat_minor": 0,
  "metadata": {
    "colab": {
      "provenance": [],
      "authorship_tag": "ABX9TyOJxv1TpNrtexJpCGCNxpVV",
      "include_colab_link": true
    },
    "kernelspec": {
      "name": "python3",
      "display_name": "Python 3"
    },
    "language_info": {
      "name": "python"
    }
  },
  "cells": [
    {
      "cell_type": "markdown",
      "metadata": {
        "id": "view-in-github",
        "colab_type": "text"
      },
      "source": [
        "<a href=\"https://colab.research.google.com/github/jameseconnolly/jameseconnolly.github.io/blob/main/NetZeroMap.ipynb\" target=\"_parent\"><img src=\"https://colab.research.google.com/assets/colab-badge.svg\" alt=\"Open In Colab\"/></a>"
      ]
    },
    {
      "cell_type": "code",
      "execution_count": 27,
      "metadata": {
        "id": "H4ckUpDQ5HC3"
      },
      "outputs": [],
      "source": [
        "# // Opening web sites and web scraping\n",
        "import requests\n",
        "\n",
        "# // JSON. This helps us make JSON look prettier and easier to read\n",
        "import json\n",
        "\n",
        "# /// Files.  This is part of Collab - allows you to upload and download files\n",
        "from google.colab import files\n",
        "\n",
        "# // OS. Sometimes need this for finding working directory\n",
        "import os\n",
        "\n",
        "# // For exporting\n",
        "import pandas as pd"
      ]
    },
    {
      "cell_type": "code",
      "source": [
        "# // Set url base and generate individual country codes\n",
        "url_base = 'https://zerotracker.net/api/v1/countries'\n",
        "codes = [f'COU-{i:04d}' for i in range(1, 199)]"
      ],
      "metadata": {
        "id": "1LfQmtDV5NcL"
      },
      "execution_count": 28,
      "outputs": []
    },
    {
      "cell_type": "code",
      "source": [
        "# //  1: Sending a request to the API for each code and appending the resulting data to a list called dfs\n",
        "# //  2: If an error occurs, print a message indicating the URL that was being requested and the error message contained in the exception object.\n",
        "\n",
        "dfs = []\n",
        "for code in codes:\n",
        "    try:\n",
        "        url = f'{url_base}/{code}'\n",
        "        print(f'Getting data from {url}...')\n",
        "        data = requests.get(url).json()\n",
        "        dfs.append(pd.DataFrame({k: [v] for k, v in data.items()}))\n",
        "    except BaseException as e:\n",
        "        print(f'Failed to get data for {url}\\n{e}')"
      ],
      "metadata": {
        "colab": {
          "base_uri": "https://localhost:8080/"
        },
        "id": "v7zwBtn15WlH",
        "outputId": "cefc8ff6-5b4f-4961-b9d8-a8f20f2d860f"
      },
      "execution_count": 29,
      "outputs": [
        {
          "output_type": "stream",
          "name": "stdout",
          "text": [
            "Getting data from https://zerotracker.net/api/v1/countries/COU-0001...\n",
            "Getting data from https://zerotracker.net/api/v1/countries/COU-0002...\n",
            "Getting data from https://zerotracker.net/api/v1/countries/COU-0003...\n",
            "Getting data from https://zerotracker.net/api/v1/countries/COU-0004...\n",
            "Getting data from https://zerotracker.net/api/v1/countries/COU-0005...\n",
            "Getting data from https://zerotracker.net/api/v1/countries/COU-0006...\n",
            "Getting data from https://zerotracker.net/api/v1/countries/COU-0007...\n",
            "Getting data from https://zerotracker.net/api/v1/countries/COU-0008...\n",
            "Getting data from https://zerotracker.net/api/v1/countries/COU-0009...\n",
            "Getting data from https://zerotracker.net/api/v1/countries/COU-0010...\n",
            "Getting data from https://zerotracker.net/api/v1/countries/COU-0011...\n",
            "Getting data from https://zerotracker.net/api/v1/countries/COU-0012...\n",
            "Getting data from https://zerotracker.net/api/v1/countries/COU-0013...\n",
            "Getting data from https://zerotracker.net/api/v1/countries/COU-0014...\n",
            "Getting data from https://zerotracker.net/api/v1/countries/COU-0015...\n",
            "Getting data from https://zerotracker.net/api/v1/countries/COU-0016...\n",
            "Getting data from https://zerotracker.net/api/v1/countries/COU-0017...\n",
            "Getting data from https://zerotracker.net/api/v1/countries/COU-0018...\n",
            "Getting data from https://zerotracker.net/api/v1/countries/COU-0019...\n",
            "Getting data from https://zerotracker.net/api/v1/countries/COU-0020...\n",
            "Getting data from https://zerotracker.net/api/v1/countries/COU-0021...\n",
            "Getting data from https://zerotracker.net/api/v1/countries/COU-0022...\n",
            "Getting data from https://zerotracker.net/api/v1/countries/COU-0023...\n",
            "Getting data from https://zerotracker.net/api/v1/countries/COU-0024...\n",
            "Getting data from https://zerotracker.net/api/v1/countries/COU-0025...\n",
            "Getting data from https://zerotracker.net/api/v1/countries/COU-0026...\n",
            "Getting data from https://zerotracker.net/api/v1/countries/COU-0027...\n",
            "Getting data from https://zerotracker.net/api/v1/countries/COU-0028...\n",
            "Getting data from https://zerotracker.net/api/v1/countries/COU-0029...\n",
            "Getting data from https://zerotracker.net/api/v1/countries/COU-0030...\n",
            "Getting data from https://zerotracker.net/api/v1/countries/COU-0031...\n",
            "Getting data from https://zerotracker.net/api/v1/countries/COU-0032...\n",
            "Getting data from https://zerotracker.net/api/v1/countries/COU-0033...\n",
            "Getting data from https://zerotracker.net/api/v1/countries/COU-0034...\n",
            "Getting data from https://zerotracker.net/api/v1/countries/COU-0035...\n",
            "Getting data from https://zerotracker.net/api/v1/countries/COU-0036...\n",
            "Getting data from https://zerotracker.net/api/v1/countries/COU-0037...\n",
            "Getting data from https://zerotracker.net/api/v1/countries/COU-0038...\n",
            "Getting data from https://zerotracker.net/api/v1/countries/COU-0039...\n",
            "Getting data from https://zerotracker.net/api/v1/countries/COU-0040...\n",
            "Getting data from https://zerotracker.net/api/v1/countries/COU-0041...\n",
            "Getting data from https://zerotracker.net/api/v1/countries/COU-0042...\n",
            "Getting data from https://zerotracker.net/api/v1/countries/COU-0043...\n",
            "Getting data from https://zerotracker.net/api/v1/countries/COU-0044...\n",
            "Getting data from https://zerotracker.net/api/v1/countries/COU-0045...\n",
            "Getting data from https://zerotracker.net/api/v1/countries/COU-0046...\n",
            "Getting data from https://zerotracker.net/api/v1/countries/COU-0047...\n",
            "Getting data from https://zerotracker.net/api/v1/countries/COU-0048...\n",
            "Getting data from https://zerotracker.net/api/v1/countries/COU-0049...\n",
            "Getting data from https://zerotracker.net/api/v1/countries/COU-0050...\n",
            "Getting data from https://zerotracker.net/api/v1/countries/COU-0051...\n",
            "Getting data from https://zerotracker.net/api/v1/countries/COU-0052...\n",
            "Getting data from https://zerotracker.net/api/v1/countries/COU-0053...\n",
            "Getting data from https://zerotracker.net/api/v1/countries/COU-0054...\n",
            "Getting data from https://zerotracker.net/api/v1/countries/COU-0055...\n",
            "Getting data from https://zerotracker.net/api/v1/countries/COU-0056...\n",
            "Getting data from https://zerotracker.net/api/v1/countries/COU-0057...\n",
            "Getting data from https://zerotracker.net/api/v1/countries/COU-0058...\n",
            "Getting data from https://zerotracker.net/api/v1/countries/COU-0059...\n",
            "Getting data from https://zerotracker.net/api/v1/countries/COU-0060...\n",
            "Getting data from https://zerotracker.net/api/v1/countries/COU-0061...\n",
            "Getting data from https://zerotracker.net/api/v1/countries/COU-0062...\n",
            "Getting data from https://zerotracker.net/api/v1/countries/COU-0063...\n",
            "Getting data from https://zerotracker.net/api/v1/countries/COU-0064...\n",
            "Getting data from https://zerotracker.net/api/v1/countries/COU-0065...\n",
            "Getting data from https://zerotracker.net/api/v1/countries/COU-0066...\n",
            "Getting data from https://zerotracker.net/api/v1/countries/COU-0067...\n",
            "Getting data from https://zerotracker.net/api/v1/countries/COU-0068...\n",
            "Getting data from https://zerotracker.net/api/v1/countries/COU-0069...\n",
            "Getting data from https://zerotracker.net/api/v1/countries/COU-0070...\n",
            "Getting data from https://zerotracker.net/api/v1/countries/COU-0071...\n",
            "Getting data from https://zerotracker.net/api/v1/countries/COU-0072...\n",
            "Getting data from https://zerotracker.net/api/v1/countries/COU-0073...\n",
            "Getting data from https://zerotracker.net/api/v1/countries/COU-0074...\n",
            "Getting data from https://zerotracker.net/api/v1/countries/COU-0075...\n",
            "Getting data from https://zerotracker.net/api/v1/countries/COU-0076...\n",
            "Getting data from https://zerotracker.net/api/v1/countries/COU-0077...\n",
            "Getting data from https://zerotracker.net/api/v1/countries/COU-0078...\n",
            "Getting data from https://zerotracker.net/api/v1/countries/COU-0079...\n",
            "Getting data from https://zerotracker.net/api/v1/countries/COU-0080...\n",
            "Getting data from https://zerotracker.net/api/v1/countries/COU-0081...\n",
            "Getting data from https://zerotracker.net/api/v1/countries/COU-0082...\n",
            "Getting data from https://zerotracker.net/api/v1/countries/COU-0083...\n",
            "Getting data from https://zerotracker.net/api/v1/countries/COU-0084...\n",
            "Getting data from https://zerotracker.net/api/v1/countries/COU-0085...\n",
            "Getting data from https://zerotracker.net/api/v1/countries/COU-0086...\n",
            "Getting data from https://zerotracker.net/api/v1/countries/COU-0087...\n",
            "Getting data from https://zerotracker.net/api/v1/countries/COU-0088...\n",
            "Getting data from https://zerotracker.net/api/v1/countries/COU-0089...\n",
            "Getting data from https://zerotracker.net/api/v1/countries/COU-0090...\n",
            "Getting data from https://zerotracker.net/api/v1/countries/COU-0091...\n",
            "Getting data from https://zerotracker.net/api/v1/countries/COU-0092...\n",
            "Getting data from https://zerotracker.net/api/v1/countries/COU-0093...\n",
            "Getting data from https://zerotracker.net/api/v1/countries/COU-0094...\n",
            "Getting data from https://zerotracker.net/api/v1/countries/COU-0095...\n",
            "Getting data from https://zerotracker.net/api/v1/countries/COU-0096...\n",
            "Getting data from https://zerotracker.net/api/v1/countries/COU-0097...\n",
            "Getting data from https://zerotracker.net/api/v1/countries/COU-0098...\n",
            "Getting data from https://zerotracker.net/api/v1/countries/COU-0099...\n",
            "Getting data from https://zerotracker.net/api/v1/countries/COU-0100...\n",
            "Getting data from https://zerotracker.net/api/v1/countries/COU-0101...\n",
            "Getting data from https://zerotracker.net/api/v1/countries/COU-0102...\n",
            "Getting data from https://zerotracker.net/api/v1/countries/COU-0103...\n",
            "Getting data from https://zerotracker.net/api/v1/countries/COU-0104...\n",
            "Getting data from https://zerotracker.net/api/v1/countries/COU-0105...\n",
            "Getting data from https://zerotracker.net/api/v1/countries/COU-0106...\n",
            "Getting data from https://zerotracker.net/api/v1/countries/COU-0107...\n",
            "Getting data from https://zerotracker.net/api/v1/countries/COU-0108...\n",
            "Getting data from https://zerotracker.net/api/v1/countries/COU-0109...\n",
            "Getting data from https://zerotracker.net/api/v1/countries/COU-0110...\n",
            "Getting data from https://zerotracker.net/api/v1/countries/COU-0111...\n",
            "Getting data from https://zerotracker.net/api/v1/countries/COU-0112...\n",
            "Getting data from https://zerotracker.net/api/v1/countries/COU-0113...\n",
            "Getting data from https://zerotracker.net/api/v1/countries/COU-0114...\n",
            "Getting data from https://zerotracker.net/api/v1/countries/COU-0115...\n",
            "Getting data from https://zerotracker.net/api/v1/countries/COU-0116...\n",
            "Getting data from https://zerotracker.net/api/v1/countries/COU-0117...\n",
            "Getting data from https://zerotracker.net/api/v1/countries/COU-0118...\n",
            "Getting data from https://zerotracker.net/api/v1/countries/COU-0119...\n",
            "Getting data from https://zerotracker.net/api/v1/countries/COU-0120...\n",
            "Getting data from https://zerotracker.net/api/v1/countries/COU-0121...\n",
            "Getting data from https://zerotracker.net/api/v1/countries/COU-0122...\n",
            "Getting data from https://zerotracker.net/api/v1/countries/COU-0123...\n",
            "Getting data from https://zerotracker.net/api/v1/countries/COU-0124...\n",
            "Getting data from https://zerotracker.net/api/v1/countries/COU-0125...\n",
            "Getting data from https://zerotracker.net/api/v1/countries/COU-0126...\n",
            "Getting data from https://zerotracker.net/api/v1/countries/COU-0127...\n",
            "Getting data from https://zerotracker.net/api/v1/countries/COU-0128...\n",
            "Getting data from https://zerotracker.net/api/v1/countries/COU-0129...\n",
            "Getting data from https://zerotracker.net/api/v1/countries/COU-0130...\n",
            "Getting data from https://zerotracker.net/api/v1/countries/COU-0131...\n",
            "Getting data from https://zerotracker.net/api/v1/countries/COU-0132...\n",
            "Getting data from https://zerotracker.net/api/v1/countries/COU-0133...\n",
            "Getting data from https://zerotracker.net/api/v1/countries/COU-0134...\n",
            "Getting data from https://zerotracker.net/api/v1/countries/COU-0135...\n",
            "Getting data from https://zerotracker.net/api/v1/countries/COU-0136...\n",
            "Getting data from https://zerotracker.net/api/v1/countries/COU-0137...\n",
            "Getting data from https://zerotracker.net/api/v1/countries/COU-0138...\n",
            "Getting data from https://zerotracker.net/api/v1/countries/COU-0139...\n",
            "Getting data from https://zerotracker.net/api/v1/countries/COU-0140...\n",
            "Getting data from https://zerotracker.net/api/v1/countries/COU-0141...\n",
            "Getting data from https://zerotracker.net/api/v1/countries/COU-0142...\n",
            "Getting data from https://zerotracker.net/api/v1/countries/COU-0143...\n",
            "Getting data from https://zerotracker.net/api/v1/countries/COU-0144...\n",
            "Getting data from https://zerotracker.net/api/v1/countries/COU-0145...\n",
            "Getting data from https://zerotracker.net/api/v1/countries/COU-0146...\n",
            "Getting data from https://zerotracker.net/api/v1/countries/COU-0147...\n",
            "Getting data from https://zerotracker.net/api/v1/countries/COU-0148...\n",
            "Getting data from https://zerotracker.net/api/v1/countries/COU-0149...\n",
            "Getting data from https://zerotracker.net/api/v1/countries/COU-0150...\n",
            "Getting data from https://zerotracker.net/api/v1/countries/COU-0151...\n",
            "Getting data from https://zerotracker.net/api/v1/countries/COU-0152...\n",
            "Getting data from https://zerotracker.net/api/v1/countries/COU-0153...\n",
            "Getting data from https://zerotracker.net/api/v1/countries/COU-0154...\n",
            "Getting data from https://zerotracker.net/api/v1/countries/COU-0155...\n",
            "Getting data from https://zerotracker.net/api/v1/countries/COU-0156...\n",
            "Getting data from https://zerotracker.net/api/v1/countries/COU-0157...\n",
            "Getting data from https://zerotracker.net/api/v1/countries/COU-0158...\n",
            "Getting data from https://zerotracker.net/api/v1/countries/COU-0159...\n",
            "Getting data from https://zerotracker.net/api/v1/countries/COU-0160...\n",
            "Getting data from https://zerotracker.net/api/v1/countries/COU-0161...\n",
            "Getting data from https://zerotracker.net/api/v1/countries/COU-0162...\n",
            "Getting data from https://zerotracker.net/api/v1/countries/COU-0163...\n",
            "Getting data from https://zerotracker.net/api/v1/countries/COU-0164...\n",
            "Getting data from https://zerotracker.net/api/v1/countries/COU-0165...\n",
            "Getting data from https://zerotracker.net/api/v1/countries/COU-0166...\n",
            "Getting data from https://zerotracker.net/api/v1/countries/COU-0167...\n",
            "Getting data from https://zerotracker.net/api/v1/countries/COU-0168...\n",
            "Getting data from https://zerotracker.net/api/v1/countries/COU-0169...\n",
            "Getting data from https://zerotracker.net/api/v1/countries/COU-0170...\n",
            "Getting data from https://zerotracker.net/api/v1/countries/COU-0171...\n",
            "Getting data from https://zerotracker.net/api/v1/countries/COU-0172...\n",
            "Getting data from https://zerotracker.net/api/v1/countries/COU-0173...\n",
            "Getting data from https://zerotracker.net/api/v1/countries/COU-0174...\n",
            "Getting data from https://zerotracker.net/api/v1/countries/COU-0175...\n",
            "Getting data from https://zerotracker.net/api/v1/countries/COU-0176...\n",
            "Getting data from https://zerotracker.net/api/v1/countries/COU-0177...\n",
            "Getting data from https://zerotracker.net/api/v1/countries/COU-0178...\n",
            "Getting data from https://zerotracker.net/api/v1/countries/COU-0179...\n",
            "Getting data from https://zerotracker.net/api/v1/countries/COU-0180...\n",
            "Getting data from https://zerotracker.net/api/v1/countries/COU-0181...\n",
            "Getting data from https://zerotracker.net/api/v1/countries/COU-0182...\n",
            "Getting data from https://zerotracker.net/api/v1/countries/COU-0183...\n",
            "Getting data from https://zerotracker.net/api/v1/countries/COU-0184...\n",
            "Getting data from https://zerotracker.net/api/v1/countries/COU-0185...\n",
            "Getting data from https://zerotracker.net/api/v1/countries/COU-0186...\n",
            "Getting data from https://zerotracker.net/api/v1/countries/COU-0187...\n",
            "Getting data from https://zerotracker.net/api/v1/countries/COU-0188...\n",
            "Getting data from https://zerotracker.net/api/v1/countries/COU-0189...\n",
            "Getting data from https://zerotracker.net/api/v1/countries/COU-0190...\n",
            "Getting data from https://zerotracker.net/api/v1/countries/COU-0191...\n",
            "Getting data from https://zerotracker.net/api/v1/countries/COU-0192...\n",
            "Getting data from https://zerotracker.net/api/v1/countries/COU-0193...\n",
            "Getting data from https://zerotracker.net/api/v1/countries/COU-0194...\n",
            "Getting data from https://zerotracker.net/api/v1/countries/COU-0195...\n",
            "Getting data from https://zerotracker.net/api/v1/countries/COU-0196...\n",
            "Getting data from https://zerotracker.net/api/v1/countries/COU-0197...\n",
            "Getting data from https://zerotracker.net/api/v1/countries/COU-0198...\n"
          ]
        }
      ]
    },
    {
      "cell_type": "code",
      "source": [
        "# // Combining all individual url's using concat into a csv, then exporting \n",
        "df = pd.concat(dfs, ignore_index=True)\n",
        "df.to_csv('Net_Zero_COU.csv', index=False)"
      ],
      "metadata": {
        "id": "1UnZ0QVz5ZKn"
      },
      "execution_count": 23,
      "outputs": []
    },
    {
      "cell_type": "code",
      "source": [
        "# // Renaming columns to chart has understandable tooltip \n",
        "df1=df.rename(columns={'name':'Country Name',\"country\":'Country Code','end_target_year':'Net-zero Target','end_target_status':'Target Status','has_plan':'Detailed Plan','reporting_mechanism':'Reporting Mechanism','carbon dioxide removal':'CO₂ Removal','ghg':'GHG'})"
      ],
      "metadata": {
        "id": "uQBDDb7T5j1V"
      },
      "execution_count": 24,
      "outputs": []
    },
    {
      "cell_type": "code",
      "source": [
        "# // Matching the name of countries in df1 to those in the topojson\n",
        "df1['Country Name'].replace({\"Dem. Rep. Congo\":\"Democratic Republic of the Congo\",\"Tanzania\":\"United Republic of Tanzania\",\"Congo\":\"Republic of the Congo\",\"Serbia\":\"Republic of Serbia\",\"Macedonia, the former Yugoslav Republic of\":\"Macedonia\",\"Guinea-Bissau\":\"Guinea Bissau\",\"The Gambia\":\"Gambia\",\"Timor-Leste\":\"East Timor\",\"Brunei Darussalam\":\"Brunei\",\"Côte d'Ivoire\":\"Ivory Coast\",\"Iran, Islamic Republic of\":\"Iran\",\"Moldova, Republic of\":\"Moldova\",\"Russian Federation\":\"Russia\",\"Syrian Arab Republic\":\"Syria\",\"Venezuela, Bolivarian Republic of\":\"Venezuela\"}, inplace=True)"
      ],
      "metadata": {
        "id": "T_9tUJUhreME"
      },
      "execution_count": 25,
      "outputs": []
    },
    {
      "cell_type": "code",
      "source": [
        "# // Exporting df1 to csv\n",
        "df1.to_csv('Net_Zero_Countries.csv')"
      ],
      "metadata": {
        "id": "u2oibiNWrh4e"
      },
      "execution_count": 26,
      "outputs": []
    }
  ]
}