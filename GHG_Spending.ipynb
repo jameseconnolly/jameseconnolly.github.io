{
  "nbformat": 4,
  "nbformat_minor": 0,
  "metadata": {
    "colab": {
      "provenance": [],
      "authorship_tag": "ABX9TyMK5hqM22jvefsM312bb2qq",
      "include_colab_link": true
    },
    "kernelspec": {
      "name": "python3",
      "display_name": "Python 3"
    },
    "language_info": {
      "name": "python"
    }
  },
  "cells": [
    {
      "cell_type": "markdown",
      "metadata": {
        "id": "view-in-github",
        "colab_type": "text"
      },
      "source": [
        "<a href=\"https://colab.research.google.com/github/jameseconnolly/jameseconnolly.github.io/blob/main/GHG_Spending.ipynb\" target=\"_parent\"><img src=\"https://colab.research.google.com/assets/colab-badge.svg\" alt=\"Open In Colab\"/></a>"
      ]
    },
    {
      "cell_type": "code",
      "execution_count": 1,
      "metadata": {
        "id": "-13NBzy6kJPg"
      },
      "outputs": [],
      "source": [
        "# //  Importing necessary stuff\n",
        "import requests\n",
        "import pandas as pd"
      ]
    },
    {
      "cell_type": "code",
      "source": [
        "url=(\"https://services9.arcgis.com/weJ1QsnbMYJlCHdG/arcgis/rest/services/Indicator_14_Expenditure_on_Environmental_Protection/FeatureServer/0/query?where=1%3D1&outFields=*&outSR=4326&f=json\")"
      ],
      "metadata": {
        "id": "zRb5Jlr7k4uv"
      },
      "execution_count": 2,
      "outputs": []
    },
    {
      "cell_type": "code",
      "source": [
        "response = requests.get(url)"
      ],
      "metadata": {
        "id": "AwIxmeHiUR4q"
      },
      "execution_count": 3,
      "outputs": []
    },
    {
      "cell_type": "code",
      "source": [
        "# // Checking the status code of the response to ensure it was successful\n",
        "if response.status_code == 200:\n",
        "    # // convert to json\n",
        "    data = response.json()\n",
        "    \n",
        "    # // extract the 'features' field from the JSON object\n",
        "    features = data['features']\n",
        "    \n",
        "    # // creating empty list to store the data\n",
        "    records = []\n",
        "    \n",
        "    # // loop through the features and extract the 'attributes' field from each feature\n",
        "    for feature in features:\n",
        "        attributes = feature['attributes']\n",
        "        \n",
        "        # // append attributes\n",
        "        records.append(attributes)\n",
        "    \n",
        "    # // df is append of attributes\n",
        "    df = pd.DataFrame.from_records(records)\n",
        "    \n",
        "    print(df)\n",
        "else:\n",
        "    # // If unsuccessful, print the status code\n",
        "    print(response.status_code)"
      ],
      "metadata": {
        "colab": {
          "base_uri": "https://localhost:8080/"
        },
        "id": "QpzWkamSVRXM",
        "outputId": "e8125fe7-5d8e-47f5-fc49-1d4b79359e4a"
      },
      "execution_count": 4,
      "outputs": [
        {
          "output_type": "stream",
          "name": "stdout",
          "text": [
            "      ObjectId                       Country ISO2 ISO3  \\\n",
            "0            1  Afghanistan, Islamic Rep. of   AF  AFG   \n",
            "1            2  Afghanistan, Islamic Rep. of   AF  AFG   \n",
            "2            3  Afghanistan, Islamic Rep. of   AF  AFG   \n",
            "3            4  Afghanistan, Islamic Rep. of   AF  AFG   \n",
            "4            5  Afghanistan, Islamic Rep. of   AF  AFG   \n",
            "...        ...                           ...  ...  ...   \n",
            "1518      1719                        Zambia   ZM  ZMB   \n",
            "1519      1720                        Zambia   ZM  ZMB   \n",
            "1520      1721                        Zambia   ZM  ZMB   \n",
            "1521      1722                        Zambia   ZM  ZMB   \n",
            "1522      1723                        Zambia   ZM  ZMB   \n",
            "\n",
            "                                              Indicator  \\\n",
            "0     Expenditure on biodiversity & landscape protec...   \n",
            "1     Expenditure on biodiversity & landscape protec...   \n",
            "2                 Expenditure on environment protection   \n",
            "3                 Expenditure on environment protection   \n",
            "4        Expenditure on environmental protection n.e.c.   \n",
            "...                                                 ...   \n",
            "1518                 Expenditure on pollution abatement   \n",
            "1519                    Expenditure on waste management   \n",
            "1520                    Expenditure on waste management   \n",
            "1521              Expenditure on waste water management   \n",
            "1522              Expenditure on waste water management   \n",
            "\n",
            "                                                 Source  CTS_Code  \\\n",
            "0     International Monetary Fund (IMF), Statistics ...  GENB_G14   \n",
            "1     International Monetary Fund (IMF), Statistics ...  GENB_G14   \n",
            "2     International Monetary Fund (IMF), Statistics ...   GEN_G14   \n",
            "3     International Monetary Fund (IMF), Statistics ...   GEN_G14   \n",
            "4     International Monetary Fund (IMF), Statistics ...  GENO_G14   \n",
            "...                                                 ...       ...   \n",
            "1518  International Monetary Fund (IMF), Statistics ...  GENP_G14   \n",
            "1519  International Monetary Fund (IMF), Statistics ...  GENM_G14   \n",
            "1520  International Monetary Fund (IMF), Statistics ...  GENM_G14   \n",
            "1521  International Monetary Fund (IMF), Statistics ...  GENW_G14   \n",
            "1522  International Monetary Fund (IMF), Statistics ...  GENW_G14   \n",
            "\n",
            "                                               CTS_Name  \\\n",
            "0     Expenditure on Biodiversity & Landscape Protec...   \n",
            "1     Expenditure on Biodiversity & Landscape Protec...   \n",
            "2                 Environmental Protection Expenditures   \n",
            "3                 Environmental Protection Expenditures   \n",
            "4     Expenditure on Environmental Protection Not El...   \n",
            "...                                                 ...   \n",
            "1518                 Expenditure on Pollution Abatement   \n",
            "1519                    Expenditure on Waste Management   \n",
            "1520                    Expenditure on Waste Management   \n",
            "1521              Expenditure on Waste Water Management   \n",
            "1522              Expenditure on Waste Water Management   \n",
            "\n",
            "                                    CTS_Full_Descriptor               Unit  \\\n",
            "0     Government and Public Sector Finance, Expendit...  Domestic Currency   \n",
            "1     Government and Public Sector Finance, Expendit...     Percent of GDP   \n",
            "2     Government and Public Sector Finance, Expendit...  Domestic Currency   \n",
            "3     Government and Public Sector Finance, Expendit...     Percent of GDP   \n",
            "4     Government and Public Sector Finance, Expendit...  Domestic Currency   \n",
            "...                                                 ...                ...   \n",
            "1518  Government and Public Sector Finance, Expendit...     Percent of GDP   \n",
            "1519  Government and Public Sector Finance, Expendit...  Domestic Currency   \n",
            "1520  Government and Public Sector Finance, Expendit...     Percent of GDP   \n",
            "1521  Government and Public Sector Finance, Expendit...  Domestic Currency   \n",
            "1522  Government and Public Sector Finance, Expendit...     Percent of GDP   \n",
            "\n",
            "      ...         F2012         F2013         F2014         F2015  \\\n",
            "0     ...           NaN           NaN           NaN           NaN   \n",
            "1     ...           NaN           NaN           NaN           NaN   \n",
            "2     ...  2.846995e+09  3.344665e+09  2.204964e+09  1.122601e+09   \n",
            "3     ...  2.754469e-01  2.994793e-01  1.863813e-01  9.152359e-02   \n",
            "4     ...           NaN           NaN           NaN           NaN   \n",
            "...   ...           ...           ...           ...           ...   \n",
            "1518  ...  0.000000e+00  0.000000e+00  0.000000e+00  0.000000e+00   \n",
            "1519  ...  0.000000e+00  0.000000e+00  0.000000e+00  0.000000e+00   \n",
            "1520  ...  0.000000e+00  0.000000e+00  0.000000e+00  0.000000e+00   \n",
            "1521  ...  0.000000e+00  0.000000e+00  0.000000e+00  0.000000e+00   \n",
            "1522  ...  0.000000e+00  0.000000e+00  0.000000e+00  0.000000e+00   \n",
            "\n",
            "             F2016         F2017  F2018  F2019         F2020  F2021  \n",
            "0     1.243785e+08  1.258269e+09    NaN    NaN           NaN    NaN  \n",
            "1     9.433491e-03  9.134202e-02    NaN    NaN           NaN    NaN  \n",
            "2     1.702933e+09  2.377937e+09    NaN    NaN           NaN    NaN  \n",
            "3     1.291590e-01  1.726226e-01    NaN    NaN           NaN    NaN  \n",
            "4     9.669078e+07  8.846917e+07    NaN    NaN           NaN    NaN  \n",
            "...            ...           ...    ...    ...           ...    ...  \n",
            "1518  0.000000e+00  0.000000e+00    0.0    0.0  0.000000e+00    NaN  \n",
            "1519  0.000000e+00  0.000000e+00    0.0    0.0  3.281200e+07    NaN  \n",
            "1520  0.000000e+00  0.000000e+00    0.0    0.0  9.258566e-03    NaN  \n",
            "1521  0.000000e+00  0.000000e+00    0.0    0.0  0.000000e+00    NaN  \n",
            "1522  0.000000e+00  0.000000e+00    0.0    0.0  0.000000e+00    NaN  \n",
            "\n",
            "[1523 rows x 37 columns]\n"
          ]
        }
      ]
    },
    {
      "cell_type": "code",
      "source": [
        "# //  Find data I need \n",
        "unique_Indicator = df['Indicator'].unique()\n",
        "print(unique_Indicator)"
      ],
      "metadata": {
        "colab": {
          "base_uri": "https://localhost:8080/"
        },
        "id": "WnCzrKarVY1S",
        "outputId": "eacdf3d3-7956-41f1-9391-72145f9c83b0"
      },
      "execution_count": 5,
      "outputs": [
        {
          "output_type": "stream",
          "name": "stdout",
          "text": [
            "['Expenditure on biodiversity & landscape protection'\n",
            " 'Expenditure on environment protection'\n",
            " 'Expenditure on environmental protection n.e.c.'\n",
            " 'Expenditure on environmental protection R&D'\n",
            " 'Expenditure on pollution abatement' 'Expenditure on waste management'\n",
            " 'Expenditure on waste water management']\n"
          ]
        }
      ]
    },
    {
      "cell_type": "code",
      "source": [
        "# //  Cleaning and dropping F from F1995-F2021\n",
        "df = df[df['Indicator'] == 'Expenditure on environment protection']\n",
        "df = df[df['Unit'] == 'Percent of GDP']\n",
        "df = df.drop(columns=[\"ObjectId\", \"ISO2\",\"Indicator\",\"Source\",\"CTS_Code\",\"CTS_Full_Descriptor\",\"Unit\"])\n",
        "rename_dict = {}\n",
        "for col in df.columns:\n",
        "    if col.startswith(\"F\"):\n",
        "        rename_dict[col] = col[1:]\n",
        "\n",
        "df = df.rename(columns=rename_dict)"
      ],
      "metadata": {
        "id": "OASG3ZI1-W7p"
      },
      "execution_count": 6,
      "outputs": []
    },
    {
      "cell_type": "code",
      "source": [
        "df"
      ],
      "metadata": {
        "colab": {
          "base_uri": "https://localhost:8080/",
          "height": 823
        },
        "id": "6K6ZEaRX-5zM",
        "outputId": "9dded442-bc03-4717-b17d-36a3b4531c55"
      },
      "execution_count": 7,
      "outputs": [
        {
          "output_type": "execute_result",
          "data": {
            "text/plain": [
              "                           Country ISO3  \\\n",
              "3     Afghanistan, Islamic Rep. of  AFG   \n",
              "17                         Albania  ALB   \n",
              "29                         Algeria  DZA   \n",
              "33                          Angola  AGO   \n",
              "45                       Argentina  ARG   \n",
              "...                            ...  ...   \n",
              "1490                       Uruguay  URY   \n",
              "1492           Uzbekistan, Rep. of  UZB   \n",
              "1496            West Bank and Gaza  PSE   \n",
              "1508                Yemen, Rep. of  YEM   \n",
              "1512                        Zambia  ZMB   \n",
              "\n",
              "                                   CTS_Name  1995  1996  1997  1998      1999  \\\n",
              "3     Environmental Protection Expenditures   NaN   NaN   NaN   NaN       NaN   \n",
              "17    Environmental Protection Expenditures   NaN   NaN   NaN   NaN       NaN   \n",
              "29    Environmental Protection Expenditures   NaN   NaN   NaN   NaN       NaN   \n",
              "33    Environmental Protection Expenditures   NaN   NaN   NaN   NaN  0.001907   \n",
              "45    Environmental Protection Expenditures   NaN   NaN   NaN   NaN       NaN   \n",
              "...                                     ...   ...   ...   ...   ...       ...   \n",
              "1490  Environmental Protection Expenditures   NaN   NaN   NaN   NaN       NaN   \n",
              "1492  Environmental Protection Expenditures   NaN   NaN   NaN   NaN       NaN   \n",
              "1496  Environmental Protection Expenditures   NaN   NaN   NaN   NaN       NaN   \n",
              "1508  Environmental Protection Expenditures   NaN   NaN   NaN   NaN       NaN   \n",
              "1512  Environmental Protection Expenditures   NaN   NaN   NaN   NaN  0.000000   \n",
              "\n",
              "          2000      2001  ...      2012      2013      2014      2015  \\\n",
              "3          NaN       NaN  ...  0.275447  0.299479  0.186381  0.091524   \n",
              "17         NaN       NaN  ...  0.035389  0.046255  0.065698  0.096442   \n",
              "29         NaN       NaN  ...       NaN       NaN       NaN       NaN   \n",
              "33    0.003617  0.186327  ...  0.450567  0.372128  0.258804  0.152984   \n",
              "45         NaN       NaN  ...       NaN       NaN  0.056765  0.035746   \n",
              "...        ...       ...  ...       ...       ...       ...       ...   \n",
              "1490       NaN       NaN  ...       NaN       NaN       NaN  0.040551   \n",
              "1492       NaN       NaN  ...  0.009911  0.014284  0.013943  0.012311   \n",
              "1496       NaN       NaN  ...       NaN       NaN       NaN  0.006143   \n",
              "1508       NaN       NaN  ...  0.193329       NaN       NaN       NaN   \n",
              "1512       NaN  0.008718  ...  0.000000  0.004374  0.003209  0.003403   \n",
              "\n",
              "          2016      2017      2018      2019      2020  2021  \n",
              "3     0.129159  0.172623       NaN       NaN       NaN   NaN  \n",
              "17    0.185321  0.184236  0.086541  0.186092  0.329457   NaN  \n",
              "29         NaN       NaN       NaN       NaN       NaN   NaN  \n",
              "33    0.011520  0.130385  0.017064  0.008986       NaN   NaN  \n",
              "45    0.066823  0.106584  0.124123  0.137163  0.116308   NaN  \n",
              "...        ...       ...       ...       ...       ...   ...  \n",
              "1490  0.039078  0.037757  0.037185  0.037900       NaN   NaN  \n",
              "1492  0.011282  0.032574  0.050005  0.044982  0.040205   NaN  \n",
              "1496  0.006293  0.006955  0.006500  0.006386  0.008113   NaN  \n",
              "1508       NaN       NaN       NaN       NaN       NaN   NaN  \n",
              "1512  0.056456  0.062482  0.125081  0.068760  0.080494   NaN  \n",
              "\n",
              "[128 rows x 30 columns]"
            ],
            "text/html": [
              "\n",
              "  <div id=\"df-96c569c4-a969-4753-a2be-9cdac2c01356\">\n",
              "    <div class=\"colab-df-container\">\n",
              "      <div>\n",
              "<style scoped>\n",
              "    .dataframe tbody tr th:only-of-type {\n",
              "        vertical-align: middle;\n",
              "    }\n",
              "\n",
              "    .dataframe tbody tr th {\n",
              "        vertical-align: top;\n",
              "    }\n",
              "\n",
              "    .dataframe thead th {\n",
              "        text-align: right;\n",
              "    }\n",
              "</style>\n",
              "<table border=\"1\" class=\"dataframe\">\n",
              "  <thead>\n",
              "    <tr style=\"text-align: right;\">\n",
              "      <th></th>\n",
              "      <th>Country</th>\n",
              "      <th>ISO3</th>\n",
              "      <th>CTS_Name</th>\n",
              "      <th>1995</th>\n",
              "      <th>1996</th>\n",
              "      <th>1997</th>\n",
              "      <th>1998</th>\n",
              "      <th>1999</th>\n",
              "      <th>2000</th>\n",
              "      <th>2001</th>\n",
              "      <th>...</th>\n",
              "      <th>2012</th>\n",
              "      <th>2013</th>\n",
              "      <th>2014</th>\n",
              "      <th>2015</th>\n",
              "      <th>2016</th>\n",
              "      <th>2017</th>\n",
              "      <th>2018</th>\n",
              "      <th>2019</th>\n",
              "      <th>2020</th>\n",
              "      <th>2021</th>\n",
              "    </tr>\n",
              "  </thead>\n",
              "  <tbody>\n",
              "    <tr>\n",
              "      <th>3</th>\n",
              "      <td>Afghanistan, Islamic Rep. of</td>\n",
              "      <td>AFG</td>\n",
              "      <td>Environmental Protection Expenditures</td>\n",
              "      <td>NaN</td>\n",
              "      <td>NaN</td>\n",
              "      <td>NaN</td>\n",
              "      <td>NaN</td>\n",
              "      <td>NaN</td>\n",
              "      <td>NaN</td>\n",
              "      <td>NaN</td>\n",
              "      <td>...</td>\n",
              "      <td>0.275447</td>\n",
              "      <td>0.299479</td>\n",
              "      <td>0.186381</td>\n",
              "      <td>0.091524</td>\n",
              "      <td>0.129159</td>\n",
              "      <td>0.172623</td>\n",
              "      <td>NaN</td>\n",
              "      <td>NaN</td>\n",
              "      <td>NaN</td>\n",
              "      <td>NaN</td>\n",
              "    </tr>\n",
              "    <tr>\n",
              "      <th>17</th>\n",
              "      <td>Albania</td>\n",
              "      <td>ALB</td>\n",
              "      <td>Environmental Protection Expenditures</td>\n",
              "      <td>NaN</td>\n",
              "      <td>NaN</td>\n",
              "      <td>NaN</td>\n",
              "      <td>NaN</td>\n",
              "      <td>NaN</td>\n",
              "      <td>NaN</td>\n",
              "      <td>NaN</td>\n",
              "      <td>...</td>\n",
              "      <td>0.035389</td>\n",
              "      <td>0.046255</td>\n",
              "      <td>0.065698</td>\n",
              "      <td>0.096442</td>\n",
              "      <td>0.185321</td>\n",
              "      <td>0.184236</td>\n",
              "      <td>0.086541</td>\n",
              "      <td>0.186092</td>\n",
              "      <td>0.329457</td>\n",
              "      <td>NaN</td>\n",
              "    </tr>\n",
              "    <tr>\n",
              "      <th>29</th>\n",
              "      <td>Algeria</td>\n",
              "      <td>DZA</td>\n",
              "      <td>Environmental Protection Expenditures</td>\n",
              "      <td>NaN</td>\n",
              "      <td>NaN</td>\n",
              "      <td>NaN</td>\n",
              "      <td>NaN</td>\n",
              "      <td>NaN</td>\n",
              "      <td>NaN</td>\n",
              "      <td>NaN</td>\n",
              "      <td>...</td>\n",
              "      <td>NaN</td>\n",
              "      <td>NaN</td>\n",
              "      <td>NaN</td>\n",
              "      <td>NaN</td>\n",
              "      <td>NaN</td>\n",
              "      <td>NaN</td>\n",
              "      <td>NaN</td>\n",
              "      <td>NaN</td>\n",
              "      <td>NaN</td>\n",
              "      <td>NaN</td>\n",
              "    </tr>\n",
              "    <tr>\n",
              "      <th>33</th>\n",
              "      <td>Angola</td>\n",
              "      <td>AGO</td>\n",
              "      <td>Environmental Protection Expenditures</td>\n",
              "      <td>NaN</td>\n",
              "      <td>NaN</td>\n",
              "      <td>NaN</td>\n",
              "      <td>NaN</td>\n",
              "      <td>0.001907</td>\n",
              "      <td>0.003617</td>\n",
              "      <td>0.186327</td>\n",
              "      <td>...</td>\n",
              "      <td>0.450567</td>\n",
              "      <td>0.372128</td>\n",
              "      <td>0.258804</td>\n",
              "      <td>0.152984</td>\n",
              "      <td>0.011520</td>\n",
              "      <td>0.130385</td>\n",
              "      <td>0.017064</td>\n",
              "      <td>0.008986</td>\n",
              "      <td>NaN</td>\n",
              "      <td>NaN</td>\n",
              "    </tr>\n",
              "    <tr>\n",
              "      <th>45</th>\n",
              "      <td>Argentina</td>\n",
              "      <td>ARG</td>\n",
              "      <td>Environmental Protection Expenditures</td>\n",
              "      <td>NaN</td>\n",
              "      <td>NaN</td>\n",
              "      <td>NaN</td>\n",
              "      <td>NaN</td>\n",
              "      <td>NaN</td>\n",
              "      <td>NaN</td>\n",
              "      <td>NaN</td>\n",
              "      <td>...</td>\n",
              "      <td>NaN</td>\n",
              "      <td>NaN</td>\n",
              "      <td>0.056765</td>\n",
              "      <td>0.035746</td>\n",
              "      <td>0.066823</td>\n",
              "      <td>0.106584</td>\n",
              "      <td>0.124123</td>\n",
              "      <td>0.137163</td>\n",
              "      <td>0.116308</td>\n",
              "      <td>NaN</td>\n",
              "    </tr>\n",
              "    <tr>\n",
              "      <th>...</th>\n",
              "      <td>...</td>\n",
              "      <td>...</td>\n",
              "      <td>...</td>\n",
              "      <td>...</td>\n",
              "      <td>...</td>\n",
              "      <td>...</td>\n",
              "      <td>...</td>\n",
              "      <td>...</td>\n",
              "      <td>...</td>\n",
              "      <td>...</td>\n",
              "      <td>...</td>\n",
              "      <td>...</td>\n",
              "      <td>...</td>\n",
              "      <td>...</td>\n",
              "      <td>...</td>\n",
              "      <td>...</td>\n",
              "      <td>...</td>\n",
              "      <td>...</td>\n",
              "      <td>...</td>\n",
              "      <td>...</td>\n",
              "      <td>...</td>\n",
              "    </tr>\n",
              "    <tr>\n",
              "      <th>1490</th>\n",
              "      <td>Uruguay</td>\n",
              "      <td>URY</td>\n",
              "      <td>Environmental Protection Expenditures</td>\n",
              "      <td>NaN</td>\n",
              "      <td>NaN</td>\n",
              "      <td>NaN</td>\n",
              "      <td>NaN</td>\n",
              "      <td>NaN</td>\n",
              "      <td>NaN</td>\n",
              "      <td>NaN</td>\n",
              "      <td>...</td>\n",
              "      <td>NaN</td>\n",
              "      <td>NaN</td>\n",
              "      <td>NaN</td>\n",
              "      <td>0.040551</td>\n",
              "      <td>0.039078</td>\n",
              "      <td>0.037757</td>\n",
              "      <td>0.037185</td>\n",
              "      <td>0.037900</td>\n",
              "      <td>NaN</td>\n",
              "      <td>NaN</td>\n",
              "    </tr>\n",
              "    <tr>\n",
              "      <th>1492</th>\n",
              "      <td>Uzbekistan, Rep. of</td>\n",
              "      <td>UZB</td>\n",
              "      <td>Environmental Protection Expenditures</td>\n",
              "      <td>NaN</td>\n",
              "      <td>NaN</td>\n",
              "      <td>NaN</td>\n",
              "      <td>NaN</td>\n",
              "      <td>NaN</td>\n",
              "      <td>NaN</td>\n",
              "      <td>NaN</td>\n",
              "      <td>...</td>\n",
              "      <td>0.009911</td>\n",
              "      <td>0.014284</td>\n",
              "      <td>0.013943</td>\n",
              "      <td>0.012311</td>\n",
              "      <td>0.011282</td>\n",
              "      <td>0.032574</td>\n",
              "      <td>0.050005</td>\n",
              "      <td>0.044982</td>\n",
              "      <td>0.040205</td>\n",
              "      <td>NaN</td>\n",
              "    </tr>\n",
              "    <tr>\n",
              "      <th>1496</th>\n",
              "      <td>West Bank and Gaza</td>\n",
              "      <td>PSE</td>\n",
              "      <td>Environmental Protection Expenditures</td>\n",
              "      <td>NaN</td>\n",
              "      <td>NaN</td>\n",
              "      <td>NaN</td>\n",
              "      <td>NaN</td>\n",
              "      <td>NaN</td>\n",
              "      <td>NaN</td>\n",
              "      <td>NaN</td>\n",
              "      <td>...</td>\n",
              "      <td>NaN</td>\n",
              "      <td>NaN</td>\n",
              "      <td>NaN</td>\n",
              "      <td>0.006143</td>\n",
              "      <td>0.006293</td>\n",
              "      <td>0.006955</td>\n",
              "      <td>0.006500</td>\n",
              "      <td>0.006386</td>\n",
              "      <td>0.008113</td>\n",
              "      <td>NaN</td>\n",
              "    </tr>\n",
              "    <tr>\n",
              "      <th>1508</th>\n",
              "      <td>Yemen, Rep. of</td>\n",
              "      <td>YEM</td>\n",
              "      <td>Environmental Protection Expenditures</td>\n",
              "      <td>NaN</td>\n",
              "      <td>NaN</td>\n",
              "      <td>NaN</td>\n",
              "      <td>NaN</td>\n",
              "      <td>NaN</td>\n",
              "      <td>NaN</td>\n",
              "      <td>NaN</td>\n",
              "      <td>...</td>\n",
              "      <td>0.193329</td>\n",
              "      <td>NaN</td>\n",
              "      <td>NaN</td>\n",
              "      <td>NaN</td>\n",
              "      <td>NaN</td>\n",
              "      <td>NaN</td>\n",
              "      <td>NaN</td>\n",
              "      <td>NaN</td>\n",
              "      <td>NaN</td>\n",
              "      <td>NaN</td>\n",
              "    </tr>\n",
              "    <tr>\n",
              "      <th>1512</th>\n",
              "      <td>Zambia</td>\n",
              "      <td>ZMB</td>\n",
              "      <td>Environmental Protection Expenditures</td>\n",
              "      <td>NaN</td>\n",
              "      <td>NaN</td>\n",
              "      <td>NaN</td>\n",
              "      <td>NaN</td>\n",
              "      <td>0.000000</td>\n",
              "      <td>NaN</td>\n",
              "      <td>0.008718</td>\n",
              "      <td>...</td>\n",
              "      <td>0.000000</td>\n",
              "      <td>0.004374</td>\n",
              "      <td>0.003209</td>\n",
              "      <td>0.003403</td>\n",
              "      <td>0.056456</td>\n",
              "      <td>0.062482</td>\n",
              "      <td>0.125081</td>\n",
              "      <td>0.068760</td>\n",
              "      <td>0.080494</td>\n",
              "      <td>NaN</td>\n",
              "    </tr>\n",
              "  </tbody>\n",
              "</table>\n",
              "<p>128 rows × 30 columns</p>\n",
              "</div>\n",
              "      <button class=\"colab-df-convert\" onclick=\"convertToInteractive('df-96c569c4-a969-4753-a2be-9cdac2c01356')\"\n",
              "              title=\"Convert this dataframe to an interactive table.\"\n",
              "              style=\"display:none;\">\n",
              "        \n",
              "  <svg xmlns=\"http://www.w3.org/2000/svg\" height=\"24px\"viewBox=\"0 0 24 24\"\n",
              "       width=\"24px\">\n",
              "    <path d=\"M0 0h24v24H0V0z\" fill=\"none\"/>\n",
              "    <path d=\"M18.56 5.44l.94 2.06.94-2.06 2.06-.94-2.06-.94-.94-2.06-.94 2.06-2.06.94zm-11 1L8.5 8.5l.94-2.06 2.06-.94-2.06-.94L8.5 2.5l-.94 2.06-2.06.94zm10 10l.94 2.06.94-2.06 2.06-.94-2.06-.94-.94-2.06-.94 2.06-2.06.94z\"/><path d=\"M17.41 7.96l-1.37-1.37c-.4-.4-.92-.59-1.43-.59-.52 0-1.04.2-1.43.59L10.3 9.45l-7.72 7.72c-.78.78-.78 2.05 0 2.83L4 21.41c.39.39.9.59 1.41.59.51 0 1.02-.2 1.41-.59l7.78-7.78 2.81-2.81c.8-.78.8-2.07 0-2.86zM5.41 20L4 18.59l7.72-7.72 1.47 1.35L5.41 20z\"/>\n",
              "  </svg>\n",
              "      </button>\n",
              "      \n",
              "  <style>\n",
              "    .colab-df-container {\n",
              "      display:flex;\n",
              "      flex-wrap:wrap;\n",
              "      gap: 12px;\n",
              "    }\n",
              "\n",
              "    .colab-df-convert {\n",
              "      background-color: #E8F0FE;\n",
              "      border: none;\n",
              "      border-radius: 50%;\n",
              "      cursor: pointer;\n",
              "      display: none;\n",
              "      fill: #1967D2;\n",
              "      height: 32px;\n",
              "      padding: 0 0 0 0;\n",
              "      width: 32px;\n",
              "    }\n",
              "\n",
              "    .colab-df-convert:hover {\n",
              "      background-color: #E2EBFA;\n",
              "      box-shadow: 0px 1px 2px rgba(60, 64, 67, 0.3), 0px 1px 3px 1px rgba(60, 64, 67, 0.15);\n",
              "      fill: #174EA6;\n",
              "    }\n",
              "\n",
              "    [theme=dark] .colab-df-convert {\n",
              "      background-color: #3B4455;\n",
              "      fill: #D2E3FC;\n",
              "    }\n",
              "\n",
              "    [theme=dark] .colab-df-convert:hover {\n",
              "      background-color: #434B5C;\n",
              "      box-shadow: 0px 1px 3px 1px rgba(0, 0, 0, 0.15);\n",
              "      filter: drop-shadow(0px 1px 2px rgba(0, 0, 0, 0.3));\n",
              "      fill: #FFFFFF;\n",
              "    }\n",
              "  </style>\n",
              "\n",
              "      <script>\n",
              "        const buttonEl =\n",
              "          document.querySelector('#df-96c569c4-a969-4753-a2be-9cdac2c01356 button.colab-df-convert');\n",
              "        buttonEl.style.display =\n",
              "          google.colab.kernel.accessAllowed ? 'block' : 'none';\n",
              "\n",
              "        async function convertToInteractive(key) {\n",
              "          const element = document.querySelector('#df-96c569c4-a969-4753-a2be-9cdac2c01356');\n",
              "          const dataTable =\n",
              "            await google.colab.kernel.invokeFunction('convertToInteractive',\n",
              "                                                     [key], {});\n",
              "          if (!dataTable) return;\n",
              "\n",
              "          const docLinkHtml = 'Like what you see? Visit the ' +\n",
              "            '<a target=\"_blank\" href=https://colab.research.google.com/notebooks/data_table.ipynb>data table notebook</a>'\n",
              "            + ' to learn more about interactive tables.';\n",
              "          element.innerHTML = '';\n",
              "          dataTable['output_type'] = 'display_data';\n",
              "          await google.colab.output.renderOutput(dataTable, element);\n",
              "          const docLink = document.createElement('div');\n",
              "          docLink.innerHTML = docLinkHtml;\n",
              "          element.appendChild(docLink);\n",
              "        }\n",
              "      </script>\n",
              "    </div>\n",
              "  </div>\n",
              "  "
            ]
          },
          "metadata": {},
          "execution_count": 7
        }
      ]
    },
    {
      "cell_type": "code",
      "source": [
        "df.to_csv('Environmental_Protection_Expenditures_Long.csv')"
      ],
      "metadata": {
        "id": "WmsvJ8j4-6XF"
      },
      "execution_count": 8,
      "outputs": []
    },
    {
      "cell_type": "code",
      "source": [
        "dataframe = pd.read_csv('Environmental_Protection_Expenditures_Long.csv')"
      ],
      "metadata": {
        "id": "kfZTyeSyLf5Y"
      },
      "execution_count": 9,
      "outputs": []
    },
    {
      "cell_type": "code",
      "source": [
        "dataframe = dataframe[['Country', 'ISO3','CTS_Name','2020']]"
      ],
      "metadata": {
        "id": "clIvNBugGTdo"
      },
      "execution_count": 10,
      "outputs": []
    },
    {
      "cell_type": "code",
      "source": [
        "# //  Cleaning and organsing\n",
        "dataframe.rename(columns={'2020': 'Environmental Protection Expenditures (% of GDP)'}, inplace=True)\n",
        "dataframe.drop(columns='CTS_Name', inplace=True)\n",
        "dataframe.sort_values(by='ISO3', inplace=True)"
      ],
      "metadata": {
        "id": "27O4guwcIRZ5"
      },
      "execution_count": 11,
      "outputs": []
    },
    {
      "cell_type": "code",
      "source": [
        "dataframenet = pd.read_csv('Carbon_Capture_Requirement.csv')\n",
        "dataframenet.rename(columns={'Country Code': 'ISO3'}, inplace=True)"
      ],
      "metadata": {
        "id": "EiglQnqVMRun"
      },
      "execution_count": 12,
      "outputs": []
    },
    {
      "cell_type": "code",
      "source": [
        "# //  Merge df's based off of country code (ISO3)\n",
        "df_merged = pd.merge(dataframenet, dataframe, on='ISO3')"
      ],
      "metadata": {
        "id": "mXsmj3MuM6qR"
      },
      "execution_count": 13,
      "outputs": []
    },
    {
      "cell_type": "code",
      "source": [
        "df_merged\n",
        "df_merged = df_merged.drop(columns=[\"log_population\", \"Country\"])\n",
        "df_merged.dropna(subset=['Environmental Protection Expenditures (% of GDP)'], inplace=True)"
      ],
      "metadata": {
        "id": "JpdH7hFBTg8l"
      },
      "execution_count": 14,
      "outputs": []
    },
    {
      "cell_type": "code",
      "source": [
        "df_merged.to_csv('Protection_GHG.csv')"
      ],
      "metadata": {
        "id": "y-6MSCPsPubo"
      },
      "execution_count": 15,
      "outputs": []
    },
    {
      "cell_type": "code",
      "source": [
        "# //  Importing matplotlib for regression line\n",
        "import matplotlib.pyplot as plt\n",
        "plt.style.use('classic')\n",
        "%matplotlib inline\n",
        "import numpy as np\n",
        "import pandas as pd"
      ],
      "metadata": {
        "id": "enc51fIXSHLu"
      },
      "execution_count": 16,
      "outputs": []
    },
    {
      "cell_type": "code",
      "source": [
        "# //  Import seaborn which acts as library that uses Matplotlib underneath to plot graphs.\n",
        "import seaborn as sns\n",
        "sns.set()\n",
        "sns.regplot(x='Environmental Protection Expenditures (% of GDP)',y='log_GHG',data=df_merged)"
      ],
      "metadata": {
        "colab": {
          "base_uri": "https://localhost:8080/",
          "height": 314
        },
        "id": "l6CUoOizU8mp",
        "outputId": "668d3bf5-bee8-4a4d-8e9e-e0f9a732b8c8"
      },
      "execution_count": 17,
      "outputs": [
        {
          "output_type": "execute_result",
          "data": {
            "text/plain": [
              "<matplotlib.axes._subplots.AxesSubplot at 0x7fb41401ce20>"
            ]
          },
          "metadata": {},
          "execution_count": 17
        },
        {
          "output_type": "display_data",
          "data": {
            "text/plain": [
              "<Figure size 432x288 with 1 Axes>"
            ],
            "image/png": "[encoded data removed]"
          },
          "metadata": {}
        }
      ]
    },
    {
      "cell_type": "code",
      "source": [
        "from scipy.stats import linregress"
      ],
      "metadata": {
        "id": "mXJlh2jkU_JJ"
      },
      "execution_count": 18,
      "outputs": []
    },
    {
      "cell_type": "code",
      "source": [
        "slope, intercept, rvalue, pvalue, stderr = linregress(x=df_merged['Environmental Protection Expenditures (% of GDP)'], y=df_merged['log_GHG'])"
      ],
      "metadata": {
        "id": "xe1HiqS5VItD"
      },
      "execution_count": 19,
      "outputs": []
    },
    {
      "cell_type": "code",
      "source": [
        "# //  Calculated line of best fit, vega-lite has calculated r squared \n",
        "print('y = ',np.round(slope,2),' * x + ',np.round(intercept,2))"
      ],
      "metadata": {
        "colab": {
          "base_uri": "https://localhost:8080/"
        },
        "id": "wRmZ8zp_VPnj",
        "outputId": "5292098d-1721-4b49-af16-bdfc799d7615"
      },
      "execution_count": 20,
      "outputs": [
        {
          "output_type": "stream",
          "name": "stdout",
          "text": [
            "y =  -0.43  * x +  18.85\n"
          ]
        }
      ]
    }
  ]
}